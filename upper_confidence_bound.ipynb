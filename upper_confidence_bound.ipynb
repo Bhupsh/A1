{
  "nbformat": 4,
  "nbformat_minor": 0,
  "metadata": {
    "colab": {
      "name": "upper_confidence_bound.ipynb",
      "provenance": [],
      "collapsed_sections": [],
      "include_colab_link": true
    },
    "kernelspec": {
      "name": "python3",
      "display_name": "Python 3"
    }
  },
  "cells": [
    {
      "cell_type": "markdown",
      "metadata": {
        "id": "view-in-github",
        "colab_type": "text"
      },
      "source": [
        "<a href=\"https://colab.research.google.com/github/Bhupsh/A1/blob/main/upper_confidence_bound.ipynb\" target=\"_parent\"><img src=\"https://colab.research.google.com/assets/colab-badge.svg\" alt=\"Open In Colab\"/></a>"
      ]
    },
    {
      "cell_type": "markdown",
      "metadata": {
        "id": "QJdrJJQUv3-k"
      },
      "source": [
        "# Upper Confidence Bound (UCB)"
      ]
    },
    {
      "cell_type": "markdown",
      "metadata": {
        "id": "2XCjepjJwEv-"
      },
      "source": [
        "## Importing the libraries"
      ]
    },
    {
      "cell_type": "code",
      "metadata": {
        "id": "l_mBkG3YwNTt"
      },
      "source": [
        "import numpy as np\n",
        "import matplotlib.pyplot as plt\n",
        "import pandas as pd"
      ],
      "execution_count": 1,
      "outputs": []
    },
    {
      "cell_type": "markdown",
      "metadata": {
        "id": "npqlXjaNwYTv"
      },
      "source": [
        "## Importing the dataset"
      ]
    },
    {
      "cell_type": "code",
      "metadata": {
        "id": "HMJfUVLVwcFc"
      },
      "source": [
        "dataset = pd.read_csv('Ads_CTR_Optimisation.csv')"
      ],
      "execution_count": 2,
      "outputs": []
    },
    {
      "cell_type": "markdown",
      "metadata": {
        "id": "PaSbots_wfoB"
      },
      "source": [
        "## Implementing UCB"
      ]
    },
    {
      "cell_type": "code",
      "source": [
        "import math\n",
        "observations = 10000\n",
        "machines = 10\n",
        "numbers_of_selections_of_each_machine = [0] * machines\n",
        "sums_of_rewards_for_each_machine = [0] * machines\n",
        "machines_selected = []\n",
        "total_rewards = 0\n",
        "\n",
        "for n in range(observations):\n",
        "    bandit = 0\n",
        "    max_upper_bound = 0\n",
        "    \n",
        "    for i in range(machines):\n",
        "        if (numbers_of_selections_of_each_machine[i] > 0):        \n",
        "            average_reward = sums_of_rewards_for_each_machine[i] / numbers_of_selections_of_each_machine[i]           \n",
        "            di = math.sqrt(3/2 * math.log(n + 1) / numbers_of_selections_of_each_machine[i])           \n",
        "            upper_bound = average_reward + di\n",
        "            \n",
        "        else:\n",
        "            upper_bound = 1e400\n",
        "            \n",
        "        if upper_bound > max_upper_bound:\n",
        "            max_upper_bound = upper_bound\n",
        "            bandit = i\n",
        "   \n",
        "    machines_selected.append(bandit) \n",
        "    numbers_of_selections_of_each_machine[bandit] = numbers_of_selections_of_each_machine[bandit] + 1\n",
        "    reward = dataset.values[n, bandit]\n",
        "    sums_of_rewards_for_each_machine[bandit] = sums_of_rewards_for_each_machine[bandit] + reward\n",
        "    total_rewards = total_rewards + reward"
      ],
      "metadata": {
        "id": "hKgIOsu9m3mZ"
      },
      "execution_count": 6,
      "outputs": []
    },
    {
      "cell_type": "markdown",
      "metadata": {
        "id": "AXftWcjDwsYj"
      },
      "source": [
        "## Visualising the results"
      ]
    },
    {
      "cell_type": "code",
      "source": [
        "plt.bar(['B1','B2','B3','B4','B5','B6','B7','B8','B9','B10'],sums_of_rewards_for_each_machine)\n",
        "plt.title('MABP With UCB')\n",
        "plt.xlabel('Bandits')\n",
        "plt.ylabel('Rewards By Each Machine')\n",
        "plt.show()\n",
        "\n"
      ],
      "metadata": {
        "colab": {
          "base_uri": "https://localhost:8080/",
          "height": 295
        },
        "id": "oMWsBvcltVBG",
        "outputId": "2fe1dc4a-ffac-47e6-d4ee-c278d0f5e679"
      },
      "execution_count": 11,
      "outputs": [
        {
          "output_type": "display_data",
          "data": {
            "image/png": "[encoded data removed]",
            "text/plain": [
              "<Figure size 432x288 with 1 Axes>"
            ]
          },
          "metadata": {
            "needs_background": "light"
          }
        }
      ]
    },
    {
      "cell_type": "code",
      "source": [
        "#Visualizing the selections of each machine\n",
        "plt.bar(['B1','B2','B3','B4','B5','B6','B7','B8','B9','B10'],numbers_of_selections_of_each_machine)\n",
        "plt.title('Machines selected the most')\n",
        "plt.xlabel('Bandits')\n",
        "plt.ylabel('Number Of Times Each Bandit Was Selected To Play')\n",
        "plt.show()"
      ],
      "metadata": {
        "colab": {
          "base_uri": "https://localhost:8080/",
          "height": 299
        },
        "id": "mq8LlcWntYCh",
        "outputId": "bf162355-127d-4617-c6f7-943bfb39ead6"
      },
      "execution_count": 9,
      "outputs": [
        {
          "output_type": "display_data",
          "data": {
            "image/png": "[encoded data removed]",
            "text/plain": [
              "<Figure size 432x288 with 1 Axes>"
            ]
          },
          "metadata": {
            "needs_background": "light"
          }
        }
      ]
    }
  ]
}